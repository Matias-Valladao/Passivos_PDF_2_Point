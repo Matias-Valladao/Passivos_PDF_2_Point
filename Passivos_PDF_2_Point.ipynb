{
 "cells": [
  {
   "cell_type": "code",
   "execution_count": null,
   "id": "6ff1ab42",
   "metadata": {},
   "outputs": [],
   "source": [
    "import re\n",
    "import csv\n",
    "from pathlib import Path\n",
    "from PyPDF2 import PdfReader\n",
    "\n",
    "pdf_path = Path(r\"C:/BD/Dados.pdf\")\n",
    "out_path = Path(r\"C:/BD/Pontos.csv\")\n",
    "\n",
    "re_rodovia = re.compile(r\"Rodovia:\\s*([A-Z]+\\d+)\")\n",
    "re_codigo = re.compile(r\"C[oó]digo do Passivo:\\s*([^\\n\\r]+)\")\n",
    "re_km      = re.compile(r\"Km:(\\d+\\+\\d+)\")\n",
    "re_coord   = re.compile(\n",
    "    r\"Coordenada:\\s*(\\d{2}[NS])\\s*([\\d\\.,]+)\\s*m\\s*E\\s*([\\d\\.,]+)\\s*m\\s*[NS]\",\n",
    "    re.I\n",
    ")\n",
    "\n",
    "rows = []\n",
    "reader = PdfReader(str(pdf_path))\n",
    "for page in reader.pages:\n",
    "    text = page.extract_text()\n",
    "\n",
    "    rodovias = re_rodovia.findall(text)\n",
    "    codigos  = re_codigo.findall(text)\n",
    "    kms      = re_km.findall(text)\n",
    "    coords   = re_coord.findall(text)\n",
    "\n",
    "    # combina só o que tem tudo\n",
    "    n = min(len(rodovias), len(codigos), len(kms), len(coords))\n",
    "    for i in range(n):\n",
    "        rodovia = rodovias[i]\n",
    "        codigo  = codigos[i]\n",
    "        km      = kms[i]\n",
    "\n",
    "        zona, east_raw, north_raw = coords[i]\n",
    "\n",
    "        # limpa pontos de milhar e troca vírgula -> ponto\n",
    "        east  = east_raw.replace('.', '').replace(',', '.').strip()\n",
    "        north = north_raw.replace('.', '').replace(',', '.').strip()\n",
    "\n",
    "        # AGORA: X = Easting, Y = Northing  \n",
    "        rows.append([rodovia, codigo, km, zona, east, north])\n",
    "\n",
    "# grava CSV\n",
    "with open(out_path, \"w\", newline=\"\", encoding=\"utf-8\") as f:\n",
    "    writer = csv.writer(f, delimiter=';')\n",
    "    writer.writerow([\n",
    "        \"Rodovia\", \"Código do Passivo\", \"Km\",\n",
    "        \"Zona\", \"X_Easting\", \"Y_Northing\"\n",
    "    ])\n",
    "    writer.writerows(rows)\n",
    "\n",
    "print(f\"Gerado {out_path} com {len(rows)} linhas\")"
   ]
  }
 ],
 "metadata": {
  "kernelspec": {
   "display_name": "py3.9env",
   "language": "python",
   "name": "python3"
  },
  "language_info": {
   "codemirror_mode": {
    "name": "ipython",
    "version": 3
   },
   "file_extension": ".py",
   "mimetype": "text/x-python",
   "name": "python",
   "nbconvert_exporter": "python",
   "pygments_lexer": "ipython3",
   "version": "3.12.3"
  }
 },
 "nbformat": 4,
 "nbformat_minor": 5
}
